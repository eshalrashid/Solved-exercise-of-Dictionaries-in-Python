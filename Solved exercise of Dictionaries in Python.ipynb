{
 "cells": [
  {
   "cell_type": "markdown",
   "id": "b9a90629-9e4c-4306-b3aa-7c66b191d273",
   "metadata": {},
   "source": [
    "Question no.1 "
   ]
  },
  {
   "cell_type": "markdown",
   "id": "4e4d3b80-14fa-4d9e-b18b-f3554dbda450",
   "metadata": {},
   "source": [
    "a) Create a dictionary to store information about a person (name, age, city, hobbies)."
   ]
  },
  {
   "cell_type": "code",
   "execution_count": 12,
   "id": "e4346599-e8b9-4406-9167-207327217a0e",
   "metadata": {},
   "outputs": [
    {
     "name": "stdout",
     "output_type": "stream",
     "text": [
      "{'Name': 'Eshal', 'Age': 18, 'City': 'Lahore', 'Hobbies': 'Reading books, Cooking'}\n"
     ]
    }
   ],
   "source": [
    "personal_information={'Name':'Eshal',\n",
    "                      'Age':18,\n",
    "                      'City':'Lahore',\n",
    "                      'Hobbies':'Reading books, Cooking'\n",
    "                     }\n",
    "print(personal_information)"
   ]
  },
  {
   "cell_type": "markdown",
   "id": "a5e5a551-16df-432e-bc99-007457b77bfd",
   "metadata": {},
   "source": [
    "b) Write a program to count the frequency of words in a given text."
   ]
  },
  {
   "cell_type": "code",
   "execution_count": 16,
   "id": "3d4d77eb-5845-48dc-be28-4b7f0350c9a7",
   "metadata": {},
   "outputs": [
    {
     "name": "stdout",
     "output_type": "stream",
     "text": [
      "{'islamabad': 1, 'is': 1, \"world's\": 1, 'second': 1, 'beautiful': 1, 'capital': 1}\n"
     ]
    }
   ],
   "source": [
    "text=\"Islamabad is world's second beautiful capital\"\n",
    "words=text.lower().split()\n",
    "word_count={}\n",
    "for word in words:\n",
    "    word=word.strip(\".,!\")\n",
    "    word_count[word]=word_count.get(word,0)+1\n",
    "print (word_count)"
   ]
  },
  {
   "cell_type": "markdown",
   "id": "6d80a402-6c10-46c3-881f-81b5a78021c6",
   "metadata": {},
   "source": [
    "c) Implement a simple inventory system using dictionaries."
   ]
  },
  {
   "cell_type": "code",
   "execution_count": 19,
   "id": "a7d87604-de85-4fd5-83b2-8f4ffc333a1c",
   "metadata": {},
   "outputs": [
    {
     "name": "stdout",
     "output_type": "stream",
     "text": [
      "Initial Inventory: {'apple': 10, 'banana': 12, 'orange': 6, 'pomegranate': 3}\n",
      "After Adding items in inventory: {'apple': 15, 'banana': 12, 'orange': 10, 'pomegranate': 5}\n",
      "After removing items from inventory: {'apple': 15, 'banana': 12, 'orange': 8, 'pomegranate': 5}\n"
     ]
    }
   ],
   "source": [
    "inventory={\n",
    "    \"apple\":10,\n",
    "    \"banana\":12,\n",
    "    \"orange\":6,\n",
    "    \"pomegranate\":3\n",
    "}\n",
    "print(\"Initial Inventory:\",inventory)\n",
    "#Adding items in inventory\n",
    "inventory[\"orange\"]+=4\n",
    "inventory[\"apple\"]+=5\n",
    "inventory[\"pomegranate\"]+=2\n",
    "print(\"After Adding items in inventory:\",inventory)\n",
    "#Removing some items from invetory\n",
    "inventory[\"orange\"]-=2\n",
    "print(\"After removing items from inventory:\",inventory)\n"
   ]
  },
  {
   "cell_type": "markdown",
   "id": "817b8105-5170-471c-946a-2ee6acfd3450",
   "metadata": {},
   "source": [
    "d) Analyze a dataset of customer orders to find the most popular product category."
   ]
  },
  {
   "cell_type": "code",
   "execution_count": 37,
   "id": "1d4fc060-2547-45b8-a249-4d245cc95a46",
   "metadata": {},
   "outputs": [
    {
     "name": "stdout",
     "output_type": "stream",
     "text": [
      "Category Counts: {'jam': 1, 'books': 2, 'cakes': 1, 'sandwiches': 1, 'clothes': 1}\n",
      "Most Popular Category: books\n"
     ]
    }
   ],
   "source": [
    "orders = [\"jam\", \"books\", \"cakes\", \"sandwiches\", \"clothes\", \"books\",]\n",
    "category_count = {}\n",
    "for category in orders:\n",
    "    if category in category_count:\n",
    "        category_count[category] += 1\n",
    "    else:\n",
    "        category_count[category] = 1\n",
    "most_popular = max(category_count, key=category_count.get)\n",
    "print(\"Category Counts:\", category_count)\n",
    "print(\"Most Popular Category:\", most_popular)"
   ]
  },
  {
   "cell_type": "markdown",
   "id": "c02ebbbd-d31a-4fab-afdb-7e6613bd7858",
   "metadata": {},
   "source": [
    "e) Create a dictionary to store student grades and calculate the average grade."
   ]
  },
  {
   "cell_type": "code",
   "execution_count": 34,
   "id": "b9cd3b8e-db1c-43e8-a20f-4f284d7de12c",
   "metadata": {},
   "outputs": [
    {
     "name": "stdout",
     "output_type": "stream",
     "text": [
      "Student Grades: {'Eshal': 92, 'Tehreem': 88, 'Maheen': 84, 'Laiba': 85}\n",
      "Average Grade: 87.25\n"
     ]
    }
   ],
   "source": [
    "grades = {\n",
    "    \"Eshal\": 92,\n",
    "    \"Tehreem\":88,\n",
    "    \"Maheen\": 84,\n",
    "    \"Laiba\": 85\n",
    "}\n",
    "total = 0\n",
    "for grade in grades.values():\n",
    "    total += grade\n",
    "average = total / len(grades)\n",
    "print(\"Student Grades:\", grades)\n",
    "print(\"Average Grade:\", average)\n"
   ]
  }
 ],
 "metadata": {
  "kernelspec": {
   "display_name": "Python 3 (ipykernel)",
   "language": "python",
   "name": "python3"
  },
  "language_info": {
   "codemirror_mode": {
    "name": "ipython",
    "version": 3
   },
   "file_extension": ".py",
   "mimetype": "text/x-python",
   "name": "python",
   "nbconvert_exporter": "python",
   "pygments_lexer": "ipython3",
   "version": "3.12.4"
  }
 },
 "nbformat": 4,
 "nbformat_minor": 5
}
